{
 "cells": [
  {
   "cell_type": "markdown",
   "id": "60c81670",
   "metadata": {},
   "source": [
    "<center>\n",
    "    <img src=\"logo.png\" width=\"175\" alt=\"Descripción de la imagen\">\n",
    "</center>"
   ]
  },
  {
   "cell_type": "markdown",
   "id": "10b24626",
   "metadata": {},
   "source": [
    "<span style=\"display: block; text-align: center; font-family: Time New Roman; font-size: 24px; color: black; text-decoration: underline\">**How to create the Refinitiv key**</span>"
   ]
  },
  {
   "cell_type": "markdown",
   "id": "ecac14a6",
   "metadata": {},
   "source": [
    "<span style=\"display: block; text-align: right; font-family: Time New Roman; font-size: 10px; color: black; text-decoration: underline\">**Author: Luisa M Rodríguez-Fajardo** </span>"
   ]
  },
  {
   "cell_type": "markdown",
   "id": "14988279",
   "metadata": {},
   "source": [
    "<span style=\"display: block; text-align: left; font-family: Time New Roman; font-size: 18px; color: black; text-decoration: underline\">**First you need to have the access key via Python to Refinitiv Eikon**</span>"
   ]
  },
  {
   "cell_type": "markdown",
   "id": "9f5739b3",
   "metadata": {},
   "source": [
    "<span style=\"display: block; text-align: left; font-family: Time New Roman; font-size: 14px; color: black\"> To create the Refinitiv access key, can follow the same steps in Refinitiv-Eikon or Refinitiv-Workspace.</span>"
   ]
  },
  {
   "cell_type": "markdown",
   "id": "28b22f46",
   "metadata": {},
   "source": [
    "<span style=\"display: block; text-align: left; font-family: Time New Roman; font-size: 18px; color: black; text-decoration: underline\">**Step 1. Open App Key Generator**</span>"
   ]
  },
  {
   "cell_type": "markdown",
   "id": "6c2e4b32",
   "metadata": {},
   "source": [
    "<span style=\"display: block; text-align: left; font-family: Time New Roman; font-size: 14px; color: black\"> Open App Key Generator:  In Refinitiv-Eikon or Refinitiv-Workspace type the name \"App Key Generator\".</span>"
   ]
  },
  {
   "cell_type": "markdown",
   "id": "54b49a07",
   "metadata": {},
   "source": [
    "<center>\n",
    "    <img src=\"APP-Key_Generator.png\" width=\"1000\" alt=\"Descripción de la imagen\">\n",
    "</center>"
   ]
  },
  {
   "cell_type": "markdown",
   "id": "cafbf25b",
   "metadata": {},
   "source": [
    "<span style=\"display: block; text-align: left; font-family: Time New Roman; font-size: 18px; color: black; text-decoration: underline\">**Step 2. Create Key**</span>"
   ]
  },
  {
   "cell_type": "markdown",
   "id": "d1359570",
   "metadata": {},
   "source": [
    "<span style=\"display: block; text-align: left; font-family: Time New Roman; font-size: 14px; color: black\"> A 40-character identifier will be generated in the \"API KEY\" Column when you create the key.This code will be your access key to Refinitiv via Python, which you must always use.(The following scripts show how to use it).</span>"
   ]
  },
  {
   "cell_type": "markdown",
   "id": "5c6cb39f",
   "metadata": {},
   "source": [
    "<center>\n",
    "    <img src=\"Create Key.png\" width=\"1000\" alt=\"Descripción de la imagen\">\n",
    "</center>"
   ]
  },
  {
   "cell_type": "markdown",
   "id": "489fdd19",
   "metadata": {},
   "source": [
    "End"
   ]
  }
 ],
 "metadata": {
  "kernelspec": {
   "display_name": "Python 3 (ipykernel)",
   "language": "python",
   "name": "python3"
  },
  "language_info": {
   "codemirror_mode": {
    "name": "ipython",
    "version": 3
   },
   "file_extension": ".py",
   "mimetype": "text/x-python",
   "name": "python",
   "nbconvert_exporter": "python",
   "pygments_lexer": "ipython3",
   "version": "3.10.13"
  }
 },
 "nbformat": 4,
 "nbformat_minor": 5
}
